{
 "cells": [
  {
   "cell_type": "code",
   "execution_count": 1,
   "id": "10210b3c",
   "metadata": {},
   "outputs": [],
   "source": [
    "import pandas as pd"
   ]
  },
  {
   "cell_type": "code",
   "execution_count": 2,
   "id": "4f49fa54",
   "metadata": {},
   "outputs": [],
   "source": [
    "import numpy as nm"
   ]
  },
  {
   "cell_type": "code",
   "execution_count": 3,
   "id": "007212ab",
   "metadata": {},
   "outputs": [],
   "source": [
    "stores = pd.read_csv(\"stores.csv\")"
   ]
  },
  {
   "cell_type": "code",
   "execution_count": 4,
   "id": "e919e5cc",
   "metadata": {},
   "outputs": [
    {
     "ename": "NameError",
     "evalue": "name 'store' is not defined",
     "output_type": "error",
     "traceback": [
      "\u001b[1;31m---------------------------------------------------------------------------\u001b[0m",
      "\u001b[1;31mNameError\u001b[0m                                 Traceback (most recent call last)",
      "Cell \u001b[1;32mIn[4], line 1\u001b[0m\n\u001b[1;32m----> 1\u001b[0m store\u001b[38;5;241m.\u001b[39mcount\n",
      "\u001b[1;31mNameError\u001b[0m: name 'store' is not defined"
     ]
    }
   ],
   "source": [
    "store.count"
   ]
  },
  {
   "cell_type": "code",
   "execution_count": 5,
   "id": "f58e0248",
   "metadata": {},
   "outputs": [
    {
     "data": {
      "text/plain": [
       "StoreCode          32\n",
       "StoreName          32\n",
       "StoreType          32\n",
       "Location           32\n",
       "OperatingCost      32\n",
       "Staff_Cnt          32\n",
       "TotalSales         32\n",
       "Total_Customers    32\n",
       "AcqCostPercust     29\n",
       "BasketSize         32\n",
       "ProfitPercust      32\n",
       "OwnStore           32\n",
       "OnlinePresence     32\n",
       "Tenure             32\n",
       "StoreSegment       32\n",
       "dtype: int64"
      ]
     },
     "execution_count": 5,
     "metadata": {},
     "output_type": "execute_result"
    }
   ],
   "source": [
    "stores.count()"
   ]
  },
  {
   "cell_type": "code",
   "execution_count": 6,
   "id": "531d99dd",
   "metadata": {},
   "outputs": [
    {
     "ename": "NameError",
     "evalue": "name 'Stores' is not defined",
     "output_type": "error",
     "traceback": [
      "\u001b[1;31m---------------------------------------------------------------------------\u001b[0m",
      "\u001b[1;31mNameError\u001b[0m                                 Traceback (most recent call last)",
      "Cell \u001b[1;32mIn[6], line 1\u001b[0m\n\u001b[1;32m----> 1\u001b[0m Stores\u001b[38;5;241m.\u001b[39mTotalSales\n",
      "\u001b[1;31mNameError\u001b[0m: name 'Stores' is not defined"
     ]
    }
   ],
   "source": [
    "Stores.TotalSales"
   ]
  },
  {
   "cell_type": "code",
   "execution_count": 8,
   "id": "18bc1453",
   "metadata": {},
   "outputs": [
    {
     "data": {
      "text/plain": [
       "230.72187499999998"
      ]
     },
     "execution_count": 8,
     "metadata": {},
     "output_type": "execute_result"
    }
   ],
   "source": [
    "stores.TotalSales.mean()"
   ]
  },
  {
   "cell_type": "code",
   "execution_count": 9,
   "id": "37271d5d",
   "metadata": {},
   "outputs": [
    {
     "data": {
      "text/plain": [
       "196.3"
      ]
     },
     "execution_count": 9,
     "metadata": {},
     "output_type": "execute_result"
    }
   ],
   "source": [
    "stores.TotalSales.median()"
   ]
  },
  {
   "cell_type": "code",
   "execution_count": 10,
   "id": "abfe38df",
   "metadata": {},
   "outputs": [
    {
     "data": {
      "text/plain": [
       "120.825"
      ]
     },
     "execution_count": 10,
     "metadata": {},
     "output_type": "execute_result"
    }
   ],
   "source": [
    "stores.TotalSales.quantile(0.25)"
   ]
  },
  {
   "cell_type": "code",
   "execution_count": 11,
   "id": "3473be27",
   "metadata": {},
   "outputs": [],
   "source": [
    "Q1=stores.TotalSales.quantile(0.25)"
   ]
  },
  {
   "cell_type": "code",
   "execution_count": 12,
   "id": "69c5391e",
   "metadata": {},
   "outputs": [],
   "source": [
    "Q2=stores.TotalSales.quantile(0.50)"
   ]
  },
  {
   "cell_type": "code",
   "execution_count": 13,
   "id": "6f8a4302",
   "metadata": {},
   "outputs": [],
   "source": [
    "Q3=stores.TotalSales.quantile(0.75)"
   ]
  },
  {
   "cell_type": "code",
   "execution_count": 14,
   "id": "f68f4e53",
   "metadata": {},
   "outputs": [],
   "source": [
    "IQR=Q3-Q1"
   ]
  },
  {
   "cell_type": "code",
   "execution_count": 15,
   "id": "04d677e0",
   "metadata": {},
   "outputs": [
    {
     "data": {
      "text/plain": [
       "205.175"
      ]
     },
     "execution_count": 15,
     "metadata": {},
     "output_type": "execute_result"
    }
   ],
   "source": [
    "IQR\n"
   ]
  },
  {
   "cell_type": "code",
   "execution_count": 16,
   "id": "f27ebd94",
   "metadata": {},
   "outputs": [],
   "source": [
    "lc=Q1-1.5*IQR"
   ]
  },
  {
   "cell_type": "code",
   "execution_count": 17,
   "id": "74d07d18",
   "metadata": {},
   "outputs": [],
   "source": [
    "uc = Q3 + 1.5*IQR"
   ]
  },
  {
   "cell_type": "code",
   "execution_count": 18,
   "id": "4c3cd8a9",
   "metadata": {},
   "outputs": [
    {
     "data": {
      "text/plain": [
       "-186.93750000000006"
      ]
     },
     "execution_count": 18,
     "metadata": {},
     "output_type": "execute_result"
    }
   ],
   "source": [
    "lc"
   ]
  },
  {
   "cell_type": "code",
   "execution_count": 19,
   "id": "a6d5be4f",
   "metadata": {},
   "outputs": [
    {
     "data": {
      "text/plain": [
       "633.7625"
      ]
     },
     "execution_count": 19,
     "metadata": {},
     "output_type": "execute_result"
    }
   ],
   "source": [
    "uc"
   ]
  },
  {
   "cell_type": "code",
   "execution_count": 23,
   "id": "d1cc342b",
   "metadata": {},
   "outputs": [
    {
     "data": {
      "text/html": [
       "<div>\n",
       "<style scoped>\n",
       "    .dataframe tbody tr th:only-of-type {\n",
       "        vertical-align: middle;\n",
       "    }\n",
       "\n",
       "    .dataframe tbody tr th {\n",
       "        vertical-align: top;\n",
       "    }\n",
       "\n",
       "    .dataframe thead th {\n",
       "        text-align: right;\n",
       "    }\n",
       "</style>\n",
       "<table border=\"1\" class=\"dataframe\">\n",
       "  <thead>\n",
       "    <tr style=\"text-align: right;\">\n",
       "      <th></th>\n",
       "      <th>StoreCode</th>\n",
       "      <th>StoreName</th>\n",
       "      <th>StoreType</th>\n",
       "      <th>Location</th>\n",
       "      <th>OperatingCost</th>\n",
       "      <th>Staff_Cnt</th>\n",
       "      <th>TotalSales</th>\n",
       "      <th>Total_Customers</th>\n",
       "      <th>AcqCostPercust</th>\n",
       "      <th>BasketSize</th>\n",
       "      <th>ProfitPercust</th>\n",
       "      <th>OwnStore</th>\n",
       "      <th>OnlinePresence</th>\n",
       "      <th>Tenure</th>\n",
       "      <th>StoreSegment</th>\n",
       "    </tr>\n",
       "  </thead>\n",
       "  <tbody>\n",
       "  </tbody>\n",
       "</table>\n",
       "</div>"
      ],
      "text/plain": [
       "Empty DataFrame\n",
       "Columns: [StoreCode, StoreName, StoreType, Location, OperatingCost, Staff_Cnt, TotalSales, Total_Customers, AcqCostPercust, BasketSize, ProfitPercust, OwnStore, OnlinePresence, Tenure, StoreSegment]\n",
       "Index: []"
      ]
     },
     "execution_count": 23,
     "metadata": {},
     "output_type": "execute_result"
    }
   ],
   "source": [
    "stores.loc[stores.TotalSales>uc,:]"
   ]
  },
  {
   "cell_type": "code",
   "execution_count": 25,
   "id": "a2af4cbb",
   "metadata": {},
   "outputs": [
    {
     "data": {
      "text/plain": [
       "<Axes: >"
      ]
     },
     "execution_count": 25,
     "metadata": {},
     "output_type": "execute_result"
    },
    {
     "data": {
      "image/png": "[encoded data removed]",
      "text/plain": [
       "<Figure size 640x480 with 1 Axes>"
      ]
     },
     "metadata": {},
     "output_type": "display_data"
    }
   ],
   "source": [
    "stores.TotalSales.plot(kind=\"box\")"
   ]
  },
  {
   "cell_type": "code",
   "execution_count": 29,
   "id": "2f140a1d",
   "metadata": {},
   "outputs": [
    {
     "data": {
      "text/plain": [
       "146.6875"
      ]
     },
     "execution_count": 29,
     "metadata": {},
     "output_type": "execute_result"
    }
   ],
   "source": [
    "stores.Total_Customers.mean()\n"
   ]
  },
  {
   "cell_type": "code",
   "execution_count": 30,
   "id": "6f773765",
   "metadata": {},
   "outputs": [
    {
     "data": {
      "text/plain": [
       "123.0"
      ]
     },
     "execution_count": 30,
     "metadata": {},
     "output_type": "execute_result"
    }
   ],
   "source": [
    "stores.Total_Customers.median()"
   ]
  },
  {
   "cell_type": "code",
   "execution_count": 31,
   "id": "ee775ecd",
   "metadata": {},
   "outputs": [],
   "source": [
    "Q1=stores.Total_Customers.quantile(0.25)"
   ]
  },
  {
   "cell_type": "code",
   "execution_count": 32,
   "id": "5b0f8322",
   "metadata": {},
   "outputs": [],
   "source": [
    "Q2=stores.Total_Customers.quantile(0.50)"
   ]
  },
  {
   "cell_type": "code",
   "execution_count": 33,
   "id": "2d253804",
   "metadata": {},
   "outputs": [],
   "source": [
    "Q3 = stores.Total_Customers.quantile(0.75)"
   ]
  },
  {
   "cell_type": "code",
   "execution_count": 34,
   "id": "46e694b1",
   "metadata": {},
   "outputs": [],
   "source": [
    "IQR=Q3-Q1"
   ]
  },
  {
   "cell_type": "code",
   "execution_count": 35,
   "id": "6408f441",
   "metadata": {},
   "outputs": [
    {
     "data": {
      "text/plain": [
       "83.5"
      ]
     },
     "execution_count": 35,
     "metadata": {},
     "output_type": "execute_result"
    }
   ],
   "source": [
    "IQR"
   ]
  },
  {
   "cell_type": "code",
   "execution_count": 47,
   "id": "76a474e4",
   "metadata": {},
   "outputs": [],
   "source": [
    "lc=Q1-1.5*IQR"
   ]
  },
  {
   "cell_type": "code",
   "execution_count": 40,
   "id": "353f5373",
   "metadata": {},
   "outputs": [],
   "source": [
    "uc=Q3+1.5*IQR"
   ]
  },
  {
   "cell_type": "code",
   "execution_count": 38,
   "id": "7cc28fb7",
   "metadata": {},
   "outputs": [
    {
     "data": {
      "text/plain": [
       "125.25"
      ]
     },
     "execution_count": 38,
     "metadata": {},
     "output_type": "execute_result"
    }
   ],
   "source": [
    "lc"
   ]
  },
  {
   "cell_type": "code",
   "execution_count": 41,
   "id": "599da9a8",
   "metadata": {},
   "outputs": [
    {
     "data": {
      "text/plain": [
       "305.25"
      ]
     },
     "execution_count": 41,
     "metadata": {},
     "output_type": "execute_result"
    }
   ],
   "source": [
    "uc"
   ]
  },
  {
   "cell_type": "code",
   "execution_count": 42,
   "id": "59a9f1b9",
   "metadata": {},
   "outputs": [
    {
     "data": {
      "text/plain": [
       "StoreCode          32\n",
       "StoreName          32\n",
       "StoreType          32\n",
       "Location           32\n",
       "OperatingCost      32\n",
       "Staff_Cnt          32\n",
       "TotalSales         32\n",
       "Total_Customers    32\n",
       "AcqCostPercust     29\n",
       "BasketSize         32\n",
       "ProfitPercust      32\n",
       "OwnStore           32\n",
       "OnlinePresence     32\n",
       "Tenure             32\n",
       "StoreSegment       32\n",
       "dtype: int64"
      ]
     },
     "execution_count": 42,
     "metadata": {},
     "output_type": "execute_result"
    }
   ],
   "source": [
    "stores.count()"
   ]
  },
  {
   "cell_type": "code",
   "execution_count": 46,
   "id": "04e189f7",
   "metadata": {},
   "outputs": [
    {
     "data": {
      "text/plain": [
       "<Axes: >"
      ]
     },
     "execution_count": 46,
     "metadata": {},
     "output_type": "execute_result"
    },
    {
     "data": {
      "image/png": "[encoded data removed]",
      "text/plain": [
       "<Figure size 640x480 with 1 Axes>"
      ]
     },
     "metadata": {},
     "output_type": "display_data"
    }
   ],
   "source": [
    "stores.Total_Customers.plot(kind=\"box\")"
   ]
  },
  {
   "cell_type": "code",
   "execution_count": 48,
   "id": "13e6ba7d",
   "metadata": {},
   "outputs": [],
   "source": [
    "low = stores.Total_Customers.quantile(0.05)"
   ]
  },
  {
   "cell_type": "code",
   "execution_count": 49,
   "id": "ab3b8b78",
   "metadata": {},
   "outputs": [],
   "source": [
    "high= stores.Total_Customers.quantile(0.95)"
   ]
  },
  {
   "cell_type": "code",
   "execution_count": 51,
   "id": "ced572a2",
   "metadata": {},
   "outputs": [
    {
     "data": {
      "text/plain": [
       "0     110.00\n",
       "1     110.00\n",
       "2      93.00\n",
       "3     110.00\n",
       "4     175.00\n",
       "5     105.00\n",
       "6     245.00\n",
       "7      63.65\n",
       "8      95.00\n",
       "9     123.00\n",
       "10    123.00\n",
       "11    180.00\n",
       "12    180.00\n",
       "13    180.00\n",
       "14    205.00\n",
       "15    215.00\n",
       "16    230.00\n",
       "17     66.00\n",
       "18     63.65\n",
       "19     65.00\n",
       "20     97.00\n",
       "21    150.00\n",
       "22    150.00\n",
       "23    245.00\n",
       "24    175.00\n",
       "25     66.00\n",
       "26     91.00\n",
       "27    113.00\n",
       "28    253.55\n",
       "29    175.00\n",
       "30    253.55\n",
       "31    109.00\n",
       "Name: Total_Customers, dtype: float64"
      ]
     },
     "execution_count": 51,
     "metadata": {},
     "output_type": "execute_result"
    }
   ],
   "source": [
    "stores.Total_Customers.clip(lower=low,upper=high)"
   ]
  },
  {
   "cell_type": "code",
   "execution_count": 52,
   "id": "77d1d285",
   "metadata": {},
   "outputs": [
    {
     "data": {
      "text/plain": [
       "63.65"
      ]
     },
     "execution_count": 52,
     "metadata": {},
     "output_type": "execute_result"
    }
   ],
   "source": [
    "low"
   ]
  },
  {
   "cell_type": "code",
   "execution_count": 53,
   "id": "35aec575",
   "metadata": {},
   "outputs": [
    {
     "data": {
      "text/plain": [
       "Index(['StoreCode', 'StoreName', 'StoreType', 'Location', 'OperatingCost',\n",
       "       'Staff_Cnt', 'TotalSales', 'Total_Customers', 'AcqCostPercust',\n",
       "       'BasketSize', 'ProfitPercust', 'OwnStore', 'OnlinePresence', 'Tenure',\n",
       "       'StoreSegment'],\n",
       "      dtype='object')"
      ]
     },
     "execution_count": 53,
     "metadata": {},
     "output_type": "execute_result"
    }
   ],
   "source": [
    "stores.columns"
   ]
  },
  {
   "cell_type": "code",
   "execution_count": 58,
   "id": "705b9d87",
   "metadata": {},
   "outputs": [],
   "source": [
    "summ=stores.groupby([\"Location\",\"StoreType\"])[\"TotalSales\"].sum().reset_index()"
   ]
  },
  {
   "cell_type": "markdown",
   "id": "1b0f9ddd",
   "metadata": {},
   "source": [
    "\n"
   ]
  },
  {
   "cell_type": "code",
   "execution_count": 59,
   "id": "05ba4873",
   "metadata": {},
   "outputs": [
    {
     "data": {
      "text/html": [
       "<div>\n",
       "<style scoped>\n",
       "    .dataframe tbody tr th:only-of-type {\n",
       "        vertical-align: middle;\n",
       "    }\n",
       "\n",
       "    .dataframe tbody tr th {\n",
       "        vertical-align: top;\n",
       "    }\n",
       "\n",
       "    .dataframe thead th {\n",
       "        text-align: right;\n",
       "    }\n",
       "</style>\n",
       "<table border=\"1\" class=\"dataframe\">\n",
       "  <thead>\n",
       "    <tr style=\"text-align: right;\">\n",
       "      <th>StoreType</th>\n",
       "      <th>Apparel</th>\n",
       "      <th>Electronincs</th>\n",
       "      <th>Super Market</th>\n",
       "    </tr>\n",
       "    <tr>\n",
       "      <th>Location</th>\n",
       "      <th></th>\n",
       "      <th></th>\n",
       "      <th></th>\n",
       "    </tr>\n",
       "  </thead>\n",
       "  <tbody>\n",
       "    <tr>\n",
       "      <th>Chennai</th>\n",
       "      <td>915.4</td>\n",
       "      <td>600.8</td>\n",
       "      <td>719.2</td>\n",
       "    </tr>\n",
       "    <tr>\n",
       "      <th>Delhi</th>\n",
       "      <td>745.0</td>\n",
       "      <td>306.7</td>\n",
       "      <td>726.0</td>\n",
       "    </tr>\n",
       "    <tr>\n",
       "      <th>Kolkata</th>\n",
       "      <td>525.0</td>\n",
       "      <td>521.0</td>\n",
       "      <td>566.4</td>\n",
       "    </tr>\n",
       "    <tr>\n",
       "      <th>Mumbai</th>\n",
       "      <td>700.7</td>\n",
       "      <td>790.0</td>\n",
       "      <td>266.9</td>\n",
       "    </tr>\n",
       "  </tbody>\n",
       "</table>\n",
       "</div>"
      ],
      "text/plain": [
       "StoreType  Apparel  Electronincs  Super Market\n",
       "Location                                      \n",
       "Chennai      915.4         600.8         719.2\n",
       "Delhi        745.0         306.7         726.0\n",
       "Kolkata      525.0         521.0         566.4\n",
       "Mumbai       700.7         790.0         266.9"
      ]
     },
     "execution_count": 59,
     "metadata": {},
     "output_type": "execute_result"
    }
   ],
   "source": [
    "summ.pivot(index=\"Location\",columns=\"StoreType\",values=\"TotalSales\")"
   ]
  },
  {
   "cell_type": "code",
   "execution_count": 61,
   "id": "ea756156",
   "metadata": {},
   "outputs": [
    {
     "data": {
      "text/html": [
       "<div>\n",
       "<style scoped>\n",
       "    .dataframe tbody tr th:only-of-type {\n",
       "        vertical-align: middle;\n",
       "    }\n",
       "\n",
       "    .dataframe tbody tr th {\n",
       "        vertical-align: top;\n",
       "    }\n",
       "\n",
       "    .dataframe thead th {\n",
       "        text-align: right;\n",
       "    }\n",
       "</style>\n",
       "<table border=\"1\" class=\"dataframe\">\n",
       "  <thead>\n",
       "    <tr style=\"text-align: right;\">\n",
       "      <th>StoreType</th>\n",
       "      <th>Apparel</th>\n",
       "      <th>Electronincs</th>\n",
       "      <th>Super Market</th>\n",
       "    </tr>\n",
       "    <tr>\n",
       "      <th>Location</th>\n",
       "      <th></th>\n",
       "      <th></th>\n",
       "      <th></th>\n",
       "    </tr>\n",
       "  </thead>\n",
       "  <tbody>\n",
       "    <tr>\n",
       "      <th>Chennai</th>\n",
       "      <td>915.4</td>\n",
       "      <td>600.8</td>\n",
       "      <td>719.2</td>\n",
       "    </tr>\n",
       "    <tr>\n",
       "      <th>Delhi</th>\n",
       "      <td>745.0</td>\n",
       "      <td>306.7</td>\n",
       "      <td>726.0</td>\n",
       "    </tr>\n",
       "    <tr>\n",
       "      <th>Kolkata</th>\n",
       "      <td>525.0</td>\n",
       "      <td>521.0</td>\n",
       "      <td>566.4</td>\n",
       "    </tr>\n",
       "    <tr>\n",
       "      <th>Mumbai</th>\n",
       "      <td>700.7</td>\n",
       "      <td>790.0</td>\n",
       "      <td>266.9</td>\n",
       "    </tr>\n",
       "  </tbody>\n",
       "</table>\n",
       "</div>"
      ],
      "text/plain": [
       "StoreType  Apparel  Electronincs  Super Market\n",
       "Location                                      \n",
       "Chennai      915.4         600.8         719.2\n",
       "Delhi        745.0         306.7         726.0\n",
       "Kolkata      525.0         521.0         566.4\n",
       "Mumbai       700.7         790.0         266.9"
      ]
     },
     "execution_count": 61,
     "metadata": {},
     "output_type": "execute_result"
    }
   ],
   "source": [
    "stores.pivot_table(index=\"Location\",columns=\"StoreType\",values=\"TotalSales\",aggfunc=\"sum\")"
   ]
  },
  {
   "cell_type": "code",
   "execution_count": 70,
   "id": "1af94c2a",
   "metadata": {},
   "outputs": [],
   "source": [
    "scores=pd.read_csv(\"Score.csv\")"
   ]
  },
  {
   "cell_type": "code",
   "execution_count": 68,
   "id": "22404fae",
   "metadata": {},
   "outputs": [
    {
     "data": {
      "text/html": [
       "<div>\n",
       "<style scoped>\n",
       "    .dataframe tbody tr th:only-of-type {\n",
       "        vertical-align: middle;\n",
       "    }\n",
       "\n",
       "    .dataframe tbody tr th {\n",
       "        vertical-align: top;\n",
       "    }\n",
       "\n",
       "    .dataframe thead th {\n",
       "        text-align: right;\n",
       "    }\n",
       "</style>\n",
       "<table border=\"1\" class=\"dataframe\">\n",
       "  <thead>\n",
       "    <tr style=\"text-align: right;\">\n",
       "      <th></th>\n",
       "      <th>Student</th>\n",
       "      <th>Section</th>\n",
       "      <th>Test1</th>\n",
       "      <th>Test2</th>\n",
       "      <th>Final</th>\n",
       "    </tr>\n",
       "  </thead>\n",
       "  <tbody>\n",
       "    <tr>\n",
       "      <th>0</th>\n",
       "      <td>Capalleti</td>\n",
       "      <td>1</td>\n",
       "      <td>94</td>\n",
       "      <td>91</td>\n",
       "      <td>87</td>\n",
       "    </tr>\n",
       "    <tr>\n",
       "      <th>1</th>\n",
       "      <td>Dubose</td>\n",
       "      <td>2</td>\n",
       "      <td>51</td>\n",
       "      <td>65</td>\n",
       "      <td>91</td>\n",
       "    </tr>\n",
       "    <tr>\n",
       "      <th>2</th>\n",
       "      <td>Engles</td>\n",
       "      <td>1</td>\n",
       "      <td>95</td>\n",
       "      <td>97</td>\n",
       "      <td>97</td>\n",
       "    </tr>\n",
       "    <tr>\n",
       "      <th>3</th>\n",
       "      <td>Grant</td>\n",
       "      <td>2</td>\n",
       "      <td>63</td>\n",
       "      <td>75</td>\n",
       "      <td>80</td>\n",
       "    </tr>\n",
       "    <tr>\n",
       "      <th>4</th>\n",
       "      <td>Krupski</td>\n",
       "      <td>2</td>\n",
       "      <td>80</td>\n",
       "      <td>76</td>\n",
       "      <td>71</td>\n",
       "    </tr>\n",
       "    <tr>\n",
       "      <th>5</th>\n",
       "      <td>Lundsford</td>\n",
       "      <td>1</td>\n",
       "      <td>92</td>\n",
       "      <td>40</td>\n",
       "      <td>86</td>\n",
       "    </tr>\n",
       "    <tr>\n",
       "      <th>6</th>\n",
       "      <td>Mcbane</td>\n",
       "      <td>1</td>\n",
       "      <td>75</td>\n",
       "      <td>78</td>\n",
       "      <td>72</td>\n",
       "    </tr>\n",
       "    <tr>\n",
       "      <th>7</th>\n",
       "      <td>Capalleti</td>\n",
       "      <td>1</td>\n",
       "      <td>94</td>\n",
       "      <td>65</td>\n",
       "      <td>87</td>\n",
       "    </tr>\n",
       "  </tbody>\n",
       "</table>\n",
       "</div>"
      ],
      "text/plain": [
       "     Student  Section  Test1  Test2  Final\n",
       "0  Capalleti        1     94     91     87\n",
       "1     Dubose        2     51     65     91\n",
       "2     Engles        1     95     97     97\n",
       "3      Grant        2     63     75     80\n",
       "4    Krupski        2     80     76     71\n",
       "5  Lundsford        1     92     40     86\n",
       "6     Mcbane        1     75     78     72\n",
       "7  Capalleti        1     94     65     87"
      ]
     },
     "execution_count": 68,
     "metadata": {},
     "output_type": "execute_result"
    }
   ],
   "source": [
    "scores.drop_duplicates()"
   ]
  },
  {
   "cell_type": "code",
   "execution_count": 71,
   "id": "d9abbe6b",
   "metadata": {},
   "outputs": [
    {
     "data": {
      "text/html": [
       "<div>\n",
       "<style scoped>\n",
       "    .dataframe tbody tr th:only-of-type {\n",
       "        vertical-align: middle;\n",
       "    }\n",
       "\n",
       "    .dataframe tbody tr th {\n",
       "        vertical-align: top;\n",
       "    }\n",
       "\n",
       "    .dataframe thead th {\n",
       "        text-align: right;\n",
       "    }\n",
       "</style>\n",
       "<table border=\"1\" class=\"dataframe\">\n",
       "  <thead>\n",
       "    <tr style=\"text-align: right;\">\n",
       "      <th></th>\n",
       "      <th>Student</th>\n",
       "      <th>Section</th>\n",
       "      <th>Test1</th>\n",
       "      <th>Test2</th>\n",
       "      <th>Final</th>\n",
       "    </tr>\n",
       "  </thead>\n",
       "  <tbody>\n",
       "    <tr>\n",
       "      <th>0</th>\n",
       "      <td>Capalleti</td>\n",
       "      <td>1</td>\n",
       "      <td>94</td>\n",
       "      <td>91</td>\n",
       "      <td>87</td>\n",
       "    </tr>\n",
       "    <tr>\n",
       "      <th>1</th>\n",
       "      <td>Dubose</td>\n",
       "      <td>2</td>\n",
       "      <td>51</td>\n",
       "      <td>65</td>\n",
       "      <td>91</td>\n",
       "    </tr>\n",
       "    <tr>\n",
       "      <th>2</th>\n",
       "      <td>Engles</td>\n",
       "      <td>1</td>\n",
       "      <td>95</td>\n",
       "      <td>97</td>\n",
       "      <td>97</td>\n",
       "    </tr>\n",
       "    <tr>\n",
       "      <th>3</th>\n",
       "      <td>Grant</td>\n",
       "      <td>2</td>\n",
       "      <td>63</td>\n",
       "      <td>75</td>\n",
       "      <td>80</td>\n",
       "    </tr>\n",
       "    <tr>\n",
       "      <th>4</th>\n",
       "      <td>Krupski</td>\n",
       "      <td>2</td>\n",
       "      <td>80</td>\n",
       "      <td>76</td>\n",
       "      <td>71</td>\n",
       "    </tr>\n",
       "    <tr>\n",
       "      <th>5</th>\n",
       "      <td>Lundsford</td>\n",
       "      <td>1</td>\n",
       "      <td>92</td>\n",
       "      <td>40</td>\n",
       "      <td>86</td>\n",
       "    </tr>\n",
       "    <tr>\n",
       "      <th>6</th>\n",
       "      <td>Mcbane</td>\n",
       "      <td>1</td>\n",
       "      <td>75</td>\n",
       "      <td>78</td>\n",
       "      <td>72</td>\n",
       "    </tr>\n",
       "    <tr>\n",
       "      <th>7</th>\n",
       "      <td>Capalleti</td>\n",
       "      <td>1</td>\n",
       "      <td>94</td>\n",
       "      <td>65</td>\n",
       "      <td>87</td>\n",
       "    </tr>\n",
       "    <tr>\n",
       "      <th>8</th>\n",
       "      <td>Dubose</td>\n",
       "      <td>2</td>\n",
       "      <td>51</td>\n",
       "      <td>65</td>\n",
       "      <td>91</td>\n",
       "    </tr>\n",
       "    <tr>\n",
       "      <th>9</th>\n",
       "      <td>Engles</td>\n",
       "      <td>1</td>\n",
       "      <td>95</td>\n",
       "      <td>97</td>\n",
       "      <td>97</td>\n",
       "    </tr>\n",
       "    <tr>\n",
       "      <th>10</th>\n",
       "      <td>Grant</td>\n",
       "      <td>2</td>\n",
       "      <td>63</td>\n",
       "      <td>75</td>\n",
       "      <td>80</td>\n",
       "    </tr>\n",
       "    <tr>\n",
       "      <th>11</th>\n",
       "      <td>Krupski</td>\n",
       "      <td>2</td>\n",
       "      <td>80</td>\n",
       "      <td>76</td>\n",
       "      <td>71</td>\n",
       "    </tr>\n",
       "    <tr>\n",
       "      <th>12</th>\n",
       "      <td>Lundsford</td>\n",
       "      <td>1</td>\n",
       "      <td>92</td>\n",
       "      <td>40</td>\n",
       "      <td>86</td>\n",
       "    </tr>\n",
       "    <tr>\n",
       "      <th>13</th>\n",
       "      <td>Mcbane</td>\n",
       "      <td>1</td>\n",
       "      <td>75</td>\n",
       "      <td>78</td>\n",
       "      <td>72</td>\n",
       "    </tr>\n",
       "  </tbody>\n",
       "</table>\n",
       "</div>"
      ],
      "text/plain": [
       "      Student  Section  Test1  Test2  Final\n",
       "0   Capalleti        1     94     91     87\n",
       "1      Dubose        2     51     65     91\n",
       "2      Engles        1     95     97     97\n",
       "3       Grant        2     63     75     80\n",
       "4     Krupski        2     80     76     71\n",
       "5   Lundsford        1     92     40     86\n",
       "6      Mcbane        1     75     78     72\n",
       "7   Capalleti        1     94     65     87\n",
       "8      Dubose        2     51     65     91\n",
       "9      Engles        1     95     97     97\n",
       "10      Grant        2     63     75     80\n",
       "11    Krupski        2     80     76     71\n",
       "12  Lundsford        1     92     40     86\n",
       "13     Mcbane        1     75     78     72"
      ]
     },
     "execution_count": 71,
     "metadata": {},
     "output_type": "execute_result"
    }
   ],
   "source": [
    "scores"
   ]
  },
  {
   "cell_type": "code",
   "execution_count": 73,
   "id": "999fe6bf",
   "metadata": {},
   "outputs": [
    {
     "data": {
      "text/plain": [
       "0     False\n",
       "1     False\n",
       "2     False\n",
       "3     False\n",
       "4     False\n",
       "5     False\n",
       "6     False\n",
       "7      True\n",
       "8      True\n",
       "9      True\n",
       "10     True\n",
       "11     True\n",
       "12     True\n",
       "13     True\n",
       "dtype: bool"
      ]
     },
     "execution_count": 73,
     "metadata": {},
     "output_type": "execute_result"
    }
   ],
   "source": [
    "scores.duplicated(subset=\"Student\")"
   ]
  },
  {
   "cell_type": "code",
   "execution_count": 75,
   "id": "ce7276bf",
   "metadata": {},
   "outputs": [
    {
     "data": {
      "text/plain": [
       "<Axes: ylabel='Frequency'>"
      ]
     },
     "execution_count": 75,
     "metadata": {},
     "output_type": "execute_result"
    },
    {
     "data": {
      "image/png": "[encoded data removed]",
      "text/plain": [
       "<Figure size 640x480 with 1 Axes>"
      ]
     },
     "metadata": {},
     "output_type": "display_data"
    }
   ],
   "source": [
    "stores.TotalSales.plot(kind=\"hist\")"
   ]
  },
  {
   "cell_type": "code",
   "execution_count": 82,
   "id": "97723e33",
   "metadata": {},
   "outputs": [
    {
     "data": {
      "text/plain": [
       "<Axes: title={'center': 'TEST'}>"
      ]
     },
     "execution_count": 82,
     "metadata": {},
     "output_type": "execute_result"
    },
    {
     "data": {
      "image/png": "[encoded data removed]",
      "text/plain": [
       "<Figure size 640x480 with 1 Axes>"
      ]
     },
     "metadata": {},
     "output_type": "display_data"
    }
   ],
   "source": [
    "import matplotlib.pyplot as plt\n",
    "plt.title(\"TEST\")\n",
    "stores.TotalSales.hist(bins=5)"
   ]
  },
  {
   "cell_type": "code",
   "execution_count": null,
   "id": "07789fbe",
   "metadata": {},
   "outputs": [],
   "source": []
  }
 ],
 "metadata": {
  "kernelspec": {
   "display_name": "Python 3 (ipykernel)",
   "language": "python",
   "name": "python3"
  },
  "language_info": {
   "codemirror_mode": {
    "name": "ipython",
    "version": 3
   },
   "file_extension": ".py",
   "mimetype": "text/x-python",
   "name": "python",
   "nbconvert_exporter": "python",
   "pygments_lexer": "ipython3",
   "version": "3.11.5"
  }
 },
 "nbformat": 4,
 "nbformat_minor": 5
}
